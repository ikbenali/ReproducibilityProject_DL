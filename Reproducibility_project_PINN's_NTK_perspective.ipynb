{
  "nbformat": 4,
  "nbformat_minor": 0,
  "metadata": {
    "colab": {
      "provenance": [],
      "include_colab_link": true
    },
    "kernelspec": {
      "name": "python3",
      "display_name": "Python 3"
    },
    "language_info": {
      "name": "python"
    }
  },
  "cells": [
    {
      "cell_type": "markdown",
      "metadata": {
        "id": "view-in-github",
        "colab_type": "text"
      },
      "source": [
        "<a href=\"https://colab.research.google.com/github/ikbenali/ReproducibilityProject_DL/blob/main/Reproducibility_project_PINN's_NTK_perspective.ipynb\" target=\"_parent\"><img src=\"https://colab.research.google.com/assets/colab-badge.svg\" alt=\"Open In Colab\"/></a>"
      ]
    },
    {
      "cell_type": "markdown",
      "source": [
        "### CS4240: Reproducibility project\n",
        "\n",
        "**Paper**: PINNs through a NTK perspective"
      ],
      "metadata": {
        "id": "qwjXNTi3f2ov"
      }
    },
    {
      "cell_type": "markdown",
      "source": [
        "Setup"
      ],
      "metadata": {
        "id": "jZRt4pOhj6Iq"
      }
    },
    {
      "cell_type": "code",
      "execution_count": 10,
      "metadata": {
        "id": "gVEuFXQBfyfB"
      },
      "outputs": [],
      "source": [
        "import numpy as np\n",
        "import torch\n",
        "import torch.nn as nn\n",
        "import matplotlib.pyplot as plt"
      ]
    },
    {
      "cell_type": "markdown",
      "source": [
        "Generate N random samples"
      ],
      "metadata": {
        "id": "jXUNh6HDjLAs"
      }
    },
    {
      "cell_type": "code",
      "source": [
        "N = 500\n",
        "x = torch.rand(N,1)"
      ],
      "metadata": {
        "id": "VyMGZjLajUtE"
      },
      "execution_count": 11,
      "outputs": []
    },
    {
      "cell_type": "markdown",
      "source": [
        "PINN Class"
      ],
      "metadata": {
        "id": "nwtr6CWgjVOV"
      }
    },
    {
      "cell_type": "code",
      "source": [
        "class PINN(nn.Module):\n",
        "\n",
        "      def __init__(self, input_size, neurons, output_size):\n",
        "        super(PINN, self).__init__()\n",
        "\n",
        "        self.layer1 = nn.Linear(input_size, neurons)\n",
        "        self.sigmoid = nn.Sigmoid()\n",
        "        self.layer2 = nn.Linear(neurons, output_size)\n",
        "\n",
        "\n",
        "      def forward(self, x):\n",
        "\n",
        "        uhat = self.layer1(x)\n",
        "        uhat = self.sigmoid(uhat)\n",
        "        uhat = self.layer2(uhat)\n",
        "\n",
        "        return uhat\n"
      ],
      "metadata": {
        "id": "WCqrOGYXjjwi"
      },
      "execution_count": 12,
      "outputs": []
    },
    {
      "cell_type": "markdown",
      "source": [
        "PINN Instance"
      ],
      "metadata": {
        "id": "kHvPgHDevpCp"
      }
    },
    {
      "cell_type": "code",
      "source": [
        "model = PINN(input_size=1, neurons=20, output_size=1)\n",
        "uhat = model(x)"
      ],
      "metadata": {
        "id": "0PEodZOjvwLv"
      },
      "execution_count": 14,
      "outputs": []
    }
  ]
}