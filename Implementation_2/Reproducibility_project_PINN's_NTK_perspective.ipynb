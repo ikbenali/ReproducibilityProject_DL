{
  "cells": [
    {
      "cell_type": "markdown",
      "metadata": {
        "id": "view-in-github",
        "colab_type": "text"
      },
      "source": [
        "<a href=\"https://colab.research.google.com/github/ikbenali/ReproducibilityProject_DL/blob/main/Implementation_2/Reproducibility_project_PINN's_NTK_perspective.ipynb\" target=\"_parent\"><img src=\"https://colab.research.google.com/assets/colab-badge.svg\" alt=\"Open In Colab\"/></a>"
      ]
    },
    {
      "cell_type": "markdown",
      "metadata": {
        "id": "qwjXNTi3f2ov"
      },
      "source": [
        "### CS4240: Reproducibility project\n",
        "\n",
        "**Paper**: PINNs through a NTK perspective"
      ]
    },
    {
      "cell_type": "markdown",
      "metadata": {
        "id": "jZRt4pOhj6Iq"
      },
      "source": [
        "Setup"
      ]
    },
    {
      "cell_type": "code",
      "execution_count": 1,
      "metadata": {
        "id": "gVEuFXQBfyfB"
      },
      "outputs": [],
      "source": [
        "import numpy as np\n",
        "import torch\n",
        "import torch.nn as nn\n",
        "import matplotlib.pyplot as plt"
      ]
    },
    {
      "cell_type": "markdown",
      "metadata": {
        "id": "ErvvqAMrEC27"
      },
      "source": [
        "1D Poisson PDE functions"
      ]
    },
    {
      "cell_type": "code",
      "execution_count": 2,
      "metadata": {
        "id": "3KD_SsBiEFr3"
      },
      "outputs": [],
      "source": [
        "# Forcing function\n",
        "def f(x):\n",
        "    return -16 * np.pi ** 2 * torch.sin(4 * np.pi * x)\n",
        "\n",
        "# Boundary condition\n",
        "def g(x):\n",
        "    return torch.zeros_like(x)"
      ]
    },
    {
      "cell_type": "markdown",
      "metadata": {
        "id": "nwtr6CWgjVOV"
      },
      "source": [
        "PINN Class"
      ]
    },
    {
      "cell_type": "code",
      "execution_count": 3,
      "metadata": {
        "id": "WCqrOGYXjjwi"
      },
      "outputs": [],
      "source": [
        "class PINN(nn.Module):\n",
        "\n",
        "      def __init__(self, input_size, neurons, output_size):\n",
        "        super(PINN, self).__init__()\n",
        "        \n",
        "        # Define layers\n",
        "        self.layer1 = nn.Linear(input_size, neurons)\n",
        "        self.sigmoid = nn.Sigmoid()\n",
        "        self.layer2 = nn.Linear(neurons, output_size)\n",
        "\n",
        "      def forward(self, x):\n",
        "        \n",
        "        # Calculate output of each layer for input x\n",
        "        x.requires_grad_(True)\n",
        "        u1 = self.layer1(x)\n",
        "        a = self.sigmoid(u1)\n",
        "        uhat = self.layer2(a)\n",
        "        \n",
        "        # Calculate second derivative of uhat: 'uhat_xx'\n",
        "        uhat_x = torch.autograd.grad(uhat, x, grad_outputs=torch.ones_like(uhat), create_graph=True)[0]\n",
        "        uhat_xx = torch.autograd.grad(uhat_x, x, grad_outputs=torch.ones_like(uhat_x), create_graph=True)[0]\n",
        "\n",
        "        return uhat, uhat_xx\n",
        "\n",
        "      def numel(self):\n",
        "        return sum([p.numel() for p in self.parameters()])\n",
        "\n",
        "      def get_ntk(self, x):\n",
        "          n = x.size()[0]\n",
        "\n",
        "          # Calculate Jacobian of uhat wrt to the parameters for NTK\n",
        "          jacobian_uhat = torch.zeros(n, self.numel())\n",
        "          jacobian_uhat_xx = torch.zeros(n, self.numel())\n",
        "\n",
        "          for i in range(n):\n",
        "              uhat_i, uhat_xx_i = self.forward(x[i:i+1, :])\n",
        "              grad_output = torch.ones_like(uhat_i)\n",
        "              self.zero_grad()\n",
        "              uhat_i.backward(grad_output, retain_graph=True)\n",
        "              jacobian_uhat[i] = torch.cat([param.grad.reshape(-1) if param.grad is not None else torch.zeros_like(param).reshape(-1) for param in self.parameters()])\n",
        "\n",
        "              grad_output = torch.ones_like(uhat_xx_i)\n",
        "              self.zero_grad()\n",
        "              uhat_xx_i.backward(grad_output, retain_graph=True)\n",
        "              jacobian_uhat_xx[i] = torch.cat([param.grad.reshape(-1) if param.grad is not None else torch.zeros_like(param).reshape(-1) for param in self.parameters()])\n",
        "\n",
        "          ntk_uhat = jacobian_uhat @ jacobian_uhat.T\n",
        "          ntk_uhat_xx = jacobian_uhat_xx @ jacobian_uhat_xx.T\n",
        "\n",
        "          return ntk_uhat.detach(), ntk_uhat_xx.detach()"
      ]
    },
    {
      "cell_type": "markdown",
      "metadata": {
        "id": "UHYpQOimHphn"
      },
      "source": [
        "Model"
      ]
    },
    {
      "cell_type": "code",
      "execution_count": 4,
      "metadata": {
        "id": "y3MgQ6VGH5yO",
        "colab": {
          "base_uri": "https://localhost:8080/",
          "height": 473
        },
        "outputId": "b1bb6718-1077-426c-cf9c-429cbc446dc6"
      },
      "outputs": [
        {
          "output_type": "display_data",
          "data": {
            "text/plain": [
              "<Figure size 640x480 with 1 Axes>"
            ],
            "image/png": "[encoded data removed]"
          },
          "metadata": {}
        },
        {
          "output_type": "stream",
          "name": "stdout",
          "text": [
            "torch.Size([100, 100])\n"
          ]
        }
      ],
      "source": [
        "# Initialize model\n",
        "model = PINN(input_size=1, neurons=500, output_size=1)\n",
        "\n",
        "# Set xr and xb\n",
        "nr = 100\n",
        "xr = torch.rand(nr, 1)\n",
        "nb = 100\n",
        "xb = torch.cat((torch.zeros(nb//2, 1), torch.ones(nb//2, 1)), dim=0)\n",
        "perm = torch.randperm(nb)\n",
        "xb = xb[perm]\n",
        "\n",
        "# Compute NTK for xr and xb\n",
        "ntk_uhatr, ntk_uhatr_xx = model.get_ntk(xr)\n",
        "ntk_uhatb, ntk_uhatb_xx = model.get_ntk(xb)\n",
        "\n",
        "# Compute eigenvalues for ntk_uhatb\n",
        "eigenvalues_uhatb,_ = torch.linalg.eig(ntk_uhatb)\n",
        "\n",
        "# Compute eigenvalues for ntk_uhatr_xx\n",
        "eigenvalues_uhatr_xx,_ = torch.linalg.eig(ntk_uhatr_xx)\n",
        "\n",
        "# Convert tensors to NumPy arrays\n",
        "eigenvalues_uhatb_np = torch.real(eigenvalues_uhatb).numpy()\n",
        "eigenvalues_uhatr_xx_np = torch.real(eigenvalues_uhatr_xx).numpy()\n",
        "\n",
        "# Sort eigenvalues in descending order\n",
        "eigenvalues_uhatb_sorted = np.sort(eigenvalues_uhatb_np)[::-1]\n",
        "eigenvalues_uhatr_xx_sorted = np.sort(eigenvalues_uhatr_xx_np)[::-1]\n",
        "\n",
        "# Plot the sorted eigenvalues against their index\n",
        "plt.figure()\n",
        "plt.plot(eigenvalues_uhatb_sorted, label='a = 4')\n",
        "plt.xlabel('Eigenvalue Index')\n",
        "plt.ylabel('Eigenvalue')\n",
        "plt.xscale(\"log\")  # Set log scale for x-axis\n",
        "plt.yscale(\"log\")  # Set log scale for x-axis\n",
        "plt.legend()\n",
        "plt.show()\n",
        "\n",
        "print(ntk_uhatr_xx.size())"
      ]
    },
    {
      "cell_type": "markdown",
      "metadata": {
        "id": "tw3zeU5xFR0D"
      },
      "source": [
        "Loss function"
      ]
    },
    {
      "cell_type": "code",
      "execution_count": 5,
      "metadata": {
        "id": "jLbNkR2jFZof"
      },
      "outputs": [],
      "source": [
        "def loss_fn(uhat, uhat_xx, x):\n",
        "\n",
        "    # Separate xr and xb\n",
        "    xr = x[:,0]\n",
        "    xb = x[:,1]\n",
        "\n",
        "    uhat_r = uhat[:,0];   uhat_r_xx = uhat_xx[:,0]\n",
        "    uhat_b = uhat[:,1];   uhat_b_xx = uhat_xx[:,1]  \n",
        "    \n",
        "    # Calculate residual loss term\n",
        "    f_xr = f(xr)\n",
        "    residual_loss = torch.mean((uhat_r_xx - f_xr)**2)\n",
        "\n",
        "    # Calculate residual boundary loss term\n",
        "    g_xb = g(xb)\n",
        "    boundary_loss = torch.mean((uhat_b - g(xb))**2)\n",
        "\n",
        "    # Calculate total loss\n",
        "    loss = residual_loss + boundary_loss\n",
        "\n",
        "    return loss"
      ]
    },
    {
      "cell_type": "markdown",
      "metadata": {
        "id": "TTc8H63_L7Gm"
      },
      "source": [
        "Function for training PINN"
      ]
    },
    {
      "cell_type": "code",
      "execution_count": 6,
      "metadata": {
        "id": "-feNBQpNL8f6"
      },
      "outputs": [],
      "source": [
        "def train_pinn(optimizer, optimizer_name):\n",
        "    from numpy.ma.core import size\n",
        "    num_epochs = 10000\n",
        "    NTKinterval = 10\n",
        "\n",
        "    trace_uhat = []\n",
        "    trace_uhat_xx = []\n",
        "\n",
        "    crate_uhat = []\n",
        "    crate_uhat_xx = []\n",
        "\n",
        "    losses = []\n",
        "\n",
        "    # Store the initial parameter values before training\n",
        "    initial_params = [p.clone().detach() for p in model.parameters()]\n",
        "\n",
        "    # Initialize a list to store the relative change in parameter values\n",
        "    relative_change = []\n",
        "\n",
        "    # Generate 100 random samples within interval [0 1]\n",
        "    nr = 100\n",
        "    xr = torch.rand(nr, 1)\n",
        "\n",
        "    # Generate 100 samples consisting of only 1's and 0's alternating randomly\n",
        "    nb = 100\n",
        "    xb = torch.cat((torch.zeros(nb//2, 1), torch.ones(nb//2, 1)), dim=0)\n",
        "    perm = torch.randperm(nb)\n",
        "    xb = xb[perm]\n",
        "\n",
        "    for epoch in range(num_epochs):\n",
        "\n",
        "        # Predict u(x) using PINN\n",
        "        uhatr, uhatr_xx = model(xr)\n",
        "        uhatb, uhatb_xx = model(xb)\n",
        "\n",
        "        # Concatenate x1 output with x2\n",
        "        uhatbatch = torch.hstack((uhatr, uhatb))\n",
        "        uhatbatch_xx = torch.hstack((uhatr_xx, uhatb_xx))\n",
        "        xbatch = torch.hstack((xr, xb))   \n",
        "\n",
        "        # Calculate loss \n",
        "        loss = loss_fn(uhatbatch, uhatbatch_xx, xbatch)\n",
        "\n",
        "        # Append the loss value\n",
        "        losses.append(loss.item())\n",
        "\n",
        "        # Optimization\n",
        "        optimizer.zero_grad()\n",
        "        loss.backward()\n",
        "        optimizer.step()\n",
        "        # end loop\n",
        "\n",
        "        # Get NTK submatrices\n",
        "        if ((epoch+1) % NTKinterval == 0):\n",
        "          ntk_uhatr, ntk_uhatr_xx = model.get_ntk(xr)\n",
        "          ntk_uhatb, ntk_uhatb_xx = model.get_ntk(xb)\n",
        "\n",
        "          trace_uhat.append(torch.trace(ntk_uhatb).item())\n",
        "          trace_uhat_xx.append(torch.trace(ntk_uhatr_xx).item()) \n",
        "\n",
        "          # Calculate the normalized trace values\n",
        "          crate_uhat.append(torch.trace(ntk_uhatb).item() / ntk_uhatb.shape[0])\n",
        "          crate_uhat_xx.append(torch.trace(ntk_uhatr_xx).item() / ntk_uhatr_xx.shape[0]) \n",
        "        \n",
        "        # Calculate the relative change in parameter values and store it\n",
        "        squared_norm_diff = sum([(p - p0).pow(2).sum() for p, p0 in zip(model.parameters(), initial_params)])\n",
        "        squared_norm_initial = sum([p0.pow(2).sum() for p0 in initial_params])\n",
        "        relative_change.append((squared_norm_diff / squared_norm_initial).item())\n",
        "\n",
        "        # Show loss after every 100 epochs\n",
        "        if (epoch+1) % 100 == 0:\n",
        "            print(f\"{optimizer_name} - Epoch [{epoch+1}/{num_epochs}], Loss: {loss:.4f}\")\n",
        "\n",
        "    return relative_change, losses, crate_uhat, crate_uhat_xx"
      ]
    },
    {
      "cell_type": "markdown",
      "source": [
        "Execute training"
      ],
      "metadata": {
        "id": "KjtsP6XeYZCM"
      }
    },
    {
      "cell_type": "code",
      "source": [
        "# Initialize model\n",
        "model = PINN(input_size=1, neurons=500, output_size=1)\n",
        "\n",
        "# Set learning rate\n",
        "lr = 1e-3\n",
        "\n",
        "# Stochastic gradient descent\n",
        "sgd_optim = torch.optim.SGD(model.parameters(), lr)\n",
        "sgd_relative_change, sgd_losses, sgd_crate_uhat, sgd_crate_uhat_xx = train_pinn(sgd_optim, 'SGD')\n",
        "\n",
        "# Re-initialize model\n",
        "model = PINN(input_size=1, neurons=500, output_size=1)\n",
        "\n",
        "# Adam\n",
        "adam_optim = torch.optim.Adam(model.parameters(), lr)\n",
        "adam_relative_change, adam_losses, adam_crate_uhat, adam_crate_uhat_xx = train_pinn(adam_optim, 'Adam')\n",
        "\n",
        "# Create a figure with 1 row and 3 columns\n",
        "fig, (ax1, ax2, ax3) = plt.subplots(1, 3, figsize=(15, 5))\n",
        "\n",
        "# Plot relative change\n",
        "ax1.plot(range(1, len(sgd_relative_change) + 1), sgd_relative_change, label='SGD')\n",
        "ax1.plot(range(1, len(adam_relative_change) + 1), adam_relative_change, label='Adam')\n",
        "ax1.set_xlabel('Iterations')\n",
        "ax1.set_ylabel('Relative Change in Parameter Values')\n",
        "ax1.legend()\n",
        "\n",
        "# Plot loss\n",
        "ax2.plot(range(1, len(sgd_losses) + 1), sgd_losses, label='SGD')\n",
        "ax2.plot(range(1, len(adam_losses) + 1), adam_losses, label='Adam')\n",
        "ax2.set_xlabel('Iterations')\n",
        "ax2.set_ylabel('Loss')\n",
        "ax2.legend()\n",
        "\n",
        "# Plot crate values for uhat and uhat_xx\n",
        "ax3.plot(range(0, len(sgd_crate_uhat) * 10, 10), sgd_crate_uhat, label='SGD uhat')\n",
        "ax3.plot(range(0, len(sgd_crate_uhat_xx) * 10, 10), sgd_crate_uhat_xx, label='SGD uhat_xx')\n",
        "ax3.plot(range(0, len(adam_crate_uhat) * 10, 10), adam_crate_uhat, label='Adam uhat')\n",
        "ax3.plot(range(0, len(adam_crate_uhat_xx) * 10, 10), adam_crate_uhat_xx, label='Adam uhat_xx')\n",
        "ax3.set_xlabel('Iterations')\n",
        "ax3.set_ylabel('Crate Values')\n",
        "ax3.legend()\n",
        "\n",
        "# Display learning rate information\n",
        "fig.suptitle(f'Learning Rate: {lr}')\n",
        "\n",
        "# Show the plots\n",
        "plt.show()"
      ],
      "metadata": {
        "id": "Peji6-0GRngv",
        "colab": {
          "base_uri": "https://localhost:8080/",
          "height": 1000
        },
        "outputId": "79feb8b5-b9e9-4de4-98bc-405ba7485239"
      },
      "execution_count": 7,
      "outputs": [
        {
          "output_type": "stream",
          "name": "stdout",
          "text": [
            "SGD - Epoch [100/10000], Loss: 11903.4951\n",
            "SGD - Epoch [200/10000], Loss: 8880.2451\n",
            "SGD - Epoch [300/10000], Loss: 9955.2197\n",
            "SGD - Epoch [400/10000], Loss: 4163.1855\n",
            "SGD - Epoch [500/10000], Loss: 1875.6013\n",
            "SGD - Epoch [600/10000], Loss: 1996.8162\n",
            "SGD - Epoch [700/10000], Loss: 1588.4950\n",
            "SGD - Epoch [800/10000], Loss: 896.6157\n",
            "SGD - Epoch [900/10000], Loss: 1456.9482\n",
            "SGD - Epoch [1000/10000], Loss: 999.4238\n",
            "SGD - Epoch [1100/10000], Loss: 577.3567\n",
            "SGD - Epoch [1200/10000], Loss: 414.7781\n",
            "SGD - Epoch [1300/10000], Loss: 324.7233\n",
            "SGD - Epoch [1400/10000], Loss: 1131.8693\n",
            "SGD - Epoch [1500/10000], Loss: 728.6275\n",
            "SGD - Epoch [1600/10000], Loss: 640.5358\n",
            "SGD - Epoch [1700/10000], Loss: 877.8621\n",
            "SGD - Epoch [1800/10000], Loss: 257.3954\n",
            "SGD - Epoch [1900/10000], Loss: 1191.4552\n",
            "SGD - Epoch [2000/10000], Loss: 1362.3889\n",
            "SGD - Epoch [2100/10000], Loss: 807.3237\n",
            "SGD - Epoch [2200/10000], Loss: 666.9178\n",
            "SGD - Epoch [2300/10000], Loss: 555.2917\n",
            "SGD - Epoch [2400/10000], Loss: 744.9040\n",
            "SGD - Epoch [2500/10000], Loss: 952.1617\n",
            "SGD - Epoch [2600/10000], Loss: 756.1575\n",
            "SGD - Epoch [2700/10000], Loss: 326.8614\n",
            "SGD - Epoch [2800/10000], Loss: 825.2247\n",
            "SGD - Epoch [2900/10000], Loss: 1022.9609\n",
            "SGD - Epoch [3000/10000], Loss: 1233.9323\n",
            "SGD - Epoch [3100/10000], Loss: 1326.8361\n",
            "SGD - Epoch [3200/10000], Loss: 383.5650\n",
            "SGD - Epoch [3300/10000], Loss: 268.3555\n",
            "SGD - Epoch [3400/10000], Loss: 591.1303\n",
            "SGD - Epoch [3500/10000], Loss: 317.2060\n",
            "SGD - Epoch [3600/10000], Loss: 332.4463\n",
            "SGD - Epoch [3700/10000], Loss: 354.0345\n",
            "SGD - Epoch [3800/10000], Loss: 880.0325\n",
            "SGD - Epoch [3900/10000], Loss: 331.5247\n",
            "SGD - Epoch [4000/10000], Loss: 600.9379\n",
            "SGD - Epoch [4100/10000], Loss: 314.5642\n",
            "SGD - Epoch [4200/10000], Loss: 422.8975\n",
            "SGD - Epoch [4300/10000], Loss: 962.8042\n",
            "SGD - Epoch [4400/10000], Loss: 614.2420\n",
            "SGD - Epoch [4500/10000], Loss: 348.4290\n",
            "SGD - Epoch [4600/10000], Loss: 783.7019\n",
            "SGD - Epoch [4700/10000], Loss: 456.9051\n",
            "SGD - Epoch [4800/10000], Loss: 1067.1151\n",
            "SGD - Epoch [4900/10000], Loss: 561.7212\n",
            "SGD - Epoch [5000/10000], Loss: 721.1363\n",
            "SGD - Epoch [5100/10000], Loss: 250.0349\n",
            "SGD - Epoch [5200/10000], Loss: 404.0926\n",
            "SGD - Epoch [5300/10000], Loss: 314.4208\n",
            "SGD - Epoch [5400/10000], Loss: 312.2382\n",
            "SGD - Epoch [5500/10000], Loss: 651.6616\n",
            "SGD - Epoch [5600/10000], Loss: 239.3699\n",
            "SGD - Epoch [5700/10000], Loss: 537.8281\n",
            "SGD - Epoch [5800/10000], Loss: 477.5071\n",
            "SGD - Epoch [5900/10000], Loss: 408.8746\n",
            "SGD - Epoch [6000/10000], Loss: 338.1068\n",
            "SGD - Epoch [6100/10000], Loss: 652.7162\n",
            "SGD - Epoch [6200/10000], Loss: 1018.7499\n",
            "SGD - Epoch [6300/10000], Loss: 588.6341\n",
            "SGD - Epoch [6400/10000], Loss: 241.0869\n",
            "SGD - Epoch [6500/10000], Loss: 478.2842\n",
            "SGD - Epoch [6600/10000], Loss: 616.6616\n",
            "SGD - Epoch [6700/10000], Loss: 444.2182\n",
            "SGD - Epoch [6800/10000], Loss: 340.4146\n",
            "SGD - Epoch [6900/10000], Loss: 968.4301\n",
            "SGD - Epoch [7000/10000], Loss: 442.2692\n",
            "SGD - Epoch [7100/10000], Loss: 564.3670\n",
            "SGD - Epoch [7200/10000], Loss: 175.7290\n",
            "SGD - Epoch [7300/10000], Loss: 282.8631\n",
            "SGD - Epoch [7400/10000], Loss: 806.3548\n",
            "SGD - Epoch [7500/10000], Loss: 195.4736\n",
            "SGD - Epoch [7600/10000], Loss: 371.2057\n",
            "SGD - Epoch [7700/10000], Loss: 322.3393\n",
            "SGD - Epoch [7800/10000], Loss: 331.0938\n",
            "SGD - Epoch [7900/10000], Loss: 292.2820\n",
            "SGD - Epoch [8000/10000], Loss: 863.8822\n",
            "SGD - Epoch [8100/10000], Loss: 597.9841\n",
            "SGD - Epoch [8200/10000], Loss: 454.0653\n",
            "SGD - Epoch [8300/10000], Loss: 1203.1886\n",
            "SGD - Epoch [8400/10000], Loss: 250.2679\n",
            "SGD - Epoch [8500/10000], Loss: 150.3983\n",
            "SGD - Epoch [8600/10000], Loss: 748.4987\n",
            "SGD - Epoch [8700/10000], Loss: 150.6749\n"
          ]
        },
        {
          "output_type": "error",
          "ename": "KeyboardInterrupt",
          "evalue": "ignored",
          "traceback": [
            "\u001b[0;31m---------------------------------------------------------------------------\u001b[0m",
            "\u001b[0;31mKeyboardInterrupt\u001b[0m                         Traceback (most recent call last)",
            "\u001b[0;32m<ipython-input-7-f95deca6fc34>\u001b[0m in \u001b[0;36m<cell line: 9>\u001b[0;34m()\u001b[0m\n\u001b[1;32m      7\u001b[0m \u001b[0;31m# Stochastic gradient descent\u001b[0m\u001b[0;34m\u001b[0m\u001b[0;34m\u001b[0m\u001b[0m\n\u001b[1;32m      8\u001b[0m \u001b[0msgd_optim\u001b[0m \u001b[0;34m=\u001b[0m \u001b[0mtorch\u001b[0m\u001b[0;34m.\u001b[0m\u001b[0moptim\u001b[0m\u001b[0;34m.\u001b[0m\u001b[0mSGD\u001b[0m\u001b[0;34m(\u001b[0m\u001b[0mmodel\u001b[0m\u001b[0;34m.\u001b[0m\u001b[0mparameters\u001b[0m\u001b[0;34m(\u001b[0m\u001b[0;34m)\u001b[0m\u001b[0;34m,\u001b[0m \u001b[0mlr\u001b[0m\u001b[0;34m)\u001b[0m\u001b[0;34m\u001b[0m\u001b[0;34m\u001b[0m\u001b[0m\n\u001b[0;32m----> 9\u001b[0;31m \u001b[0msgd_relative_change\u001b[0m\u001b[0;34m,\u001b[0m \u001b[0msgd_losses\u001b[0m\u001b[0;34m,\u001b[0m \u001b[0msgd_crate_uhat\u001b[0m\u001b[0;34m,\u001b[0m \u001b[0msgd_crate_uhat_xx\u001b[0m \u001b[0;34m=\u001b[0m \u001b[0mtrain_pinn\u001b[0m\u001b[0;34m(\u001b[0m\u001b[0msgd_optim\u001b[0m\u001b[0;34m,\u001b[0m \u001b[0;34m'SGD'\u001b[0m\u001b[0;34m)\u001b[0m\u001b[0;34m\u001b[0m\u001b[0;34m\u001b[0m\u001b[0m\n\u001b[0m\u001b[1;32m     10\u001b[0m \u001b[0;34m\u001b[0m\u001b[0m\n\u001b[1;32m     11\u001b[0m \u001b[0;31m# Re-initialize model\u001b[0m\u001b[0;34m\u001b[0m\u001b[0;34m\u001b[0m\u001b[0m\n",
            "\u001b[0;32m<ipython-input-6-4429c28bc4c2>\u001b[0m in \u001b[0;36mtrain_pinn\u001b[0;34m(optimizer, optimizer_name)\u001b[0m\n\u001b[1;32m     32\u001b[0m         \u001b[0;31m# Predict u(x) using PINN\u001b[0m\u001b[0;34m\u001b[0m\u001b[0;34m\u001b[0m\u001b[0m\n\u001b[1;32m     33\u001b[0m         \u001b[0muhatr\u001b[0m\u001b[0;34m,\u001b[0m \u001b[0muhatr_xx\u001b[0m \u001b[0;34m=\u001b[0m \u001b[0mmodel\u001b[0m\u001b[0;34m(\u001b[0m\u001b[0mxr\u001b[0m\u001b[0;34m)\u001b[0m\u001b[0;34m\u001b[0m\u001b[0;34m\u001b[0m\u001b[0m\n\u001b[0;32m---> 34\u001b[0;31m         \u001b[0muhatb\u001b[0m\u001b[0;34m,\u001b[0m \u001b[0muhatb_xx\u001b[0m \u001b[0;34m=\u001b[0m \u001b[0mmodel\u001b[0m\u001b[0;34m(\u001b[0m\u001b[0mxb\u001b[0m\u001b[0;34m)\u001b[0m\u001b[0;34m\u001b[0m\u001b[0;34m\u001b[0m\u001b[0m\n\u001b[0m\u001b[1;32m     35\u001b[0m \u001b[0;34m\u001b[0m\u001b[0m\n\u001b[1;32m     36\u001b[0m         \u001b[0;31m# Concatenate x1 output with x2\u001b[0m\u001b[0;34m\u001b[0m\u001b[0;34m\u001b[0m\u001b[0m\n",
            "\u001b[0;32m/usr/local/lib/python3.10/dist-packages/torch/nn/modules/module.py\u001b[0m in \u001b[0;36m_call_impl\u001b[0;34m(self, *args, **kwargs)\u001b[0m\n\u001b[1;32m   1499\u001b[0m                 \u001b[0;32mor\u001b[0m \u001b[0m_global_backward_pre_hooks\u001b[0m \u001b[0;32mor\u001b[0m \u001b[0m_global_backward_hooks\u001b[0m\u001b[0;34m\u001b[0m\u001b[0;34m\u001b[0m\u001b[0m\n\u001b[1;32m   1500\u001b[0m                 or _global_forward_hooks or _global_forward_pre_hooks):\n\u001b[0;32m-> 1501\u001b[0;31m             \u001b[0;32mreturn\u001b[0m \u001b[0mforward_call\u001b[0m\u001b[0;34m(\u001b[0m\u001b[0;34m*\u001b[0m\u001b[0margs\u001b[0m\u001b[0;34m,\u001b[0m \u001b[0;34m**\u001b[0m\u001b[0mkwargs\u001b[0m\u001b[0;34m)\u001b[0m\u001b[0;34m\u001b[0m\u001b[0;34m\u001b[0m\u001b[0m\n\u001b[0m\u001b[1;32m   1502\u001b[0m         \u001b[0;31m# Do not call functions when jit is used\u001b[0m\u001b[0;34m\u001b[0m\u001b[0;34m\u001b[0m\u001b[0m\n\u001b[1;32m   1503\u001b[0m         \u001b[0mfull_backward_hooks\u001b[0m\u001b[0;34m,\u001b[0m \u001b[0mnon_full_backward_hooks\u001b[0m \u001b[0;34m=\u001b[0m \u001b[0;34m[\u001b[0m\u001b[0;34m]\u001b[0m\u001b[0;34m,\u001b[0m \u001b[0;34m[\u001b[0m\u001b[0;34m]\u001b[0m\u001b[0;34m\u001b[0m\u001b[0;34m\u001b[0m\u001b[0m\n",
            "\u001b[0;32m<ipython-input-3-c2c79314afe3>\u001b[0m in \u001b[0;36mforward\u001b[0;34m(self, x)\u001b[0m\n\u001b[1;32m     13\u001b[0m         \u001b[0;31m# Calculate output of each layer for input x\u001b[0m\u001b[0;34m\u001b[0m\u001b[0;34m\u001b[0m\u001b[0m\n\u001b[1;32m     14\u001b[0m         \u001b[0mx\u001b[0m\u001b[0;34m.\u001b[0m\u001b[0mrequires_grad_\u001b[0m\u001b[0;34m(\u001b[0m\u001b[0;32mTrue\u001b[0m\u001b[0;34m)\u001b[0m\u001b[0;34m\u001b[0m\u001b[0;34m\u001b[0m\u001b[0m\n\u001b[0;32m---> 15\u001b[0;31m         \u001b[0mu1\u001b[0m \u001b[0;34m=\u001b[0m \u001b[0mself\u001b[0m\u001b[0;34m.\u001b[0m\u001b[0mlayer1\u001b[0m\u001b[0;34m(\u001b[0m\u001b[0mx\u001b[0m\u001b[0;34m)\u001b[0m\u001b[0;34m\u001b[0m\u001b[0;34m\u001b[0m\u001b[0m\n\u001b[0m\u001b[1;32m     16\u001b[0m         \u001b[0ma\u001b[0m \u001b[0;34m=\u001b[0m \u001b[0mself\u001b[0m\u001b[0;34m.\u001b[0m\u001b[0msigmoid\u001b[0m\u001b[0;34m(\u001b[0m\u001b[0mu1\u001b[0m\u001b[0;34m)\u001b[0m\u001b[0;34m\u001b[0m\u001b[0;34m\u001b[0m\u001b[0m\n\u001b[1;32m     17\u001b[0m         \u001b[0muhat\u001b[0m \u001b[0;34m=\u001b[0m \u001b[0mself\u001b[0m\u001b[0;34m.\u001b[0m\u001b[0mlayer2\u001b[0m\u001b[0;34m(\u001b[0m\u001b[0ma\u001b[0m\u001b[0;34m)\u001b[0m\u001b[0;34m\u001b[0m\u001b[0;34m\u001b[0m\u001b[0m\n",
            "\u001b[0;32m/usr/local/lib/python3.10/dist-packages/torch/nn/modules/module.py\u001b[0m in \u001b[0;36m_call_impl\u001b[0;34m(self, *args, **kwargs)\u001b[0m\n\u001b[1;32m   1499\u001b[0m                 \u001b[0;32mor\u001b[0m \u001b[0m_global_backward_pre_hooks\u001b[0m \u001b[0;32mor\u001b[0m \u001b[0m_global_backward_hooks\u001b[0m\u001b[0;34m\u001b[0m\u001b[0;34m\u001b[0m\u001b[0m\n\u001b[1;32m   1500\u001b[0m                 or _global_forward_hooks or _global_forward_pre_hooks):\n\u001b[0;32m-> 1501\u001b[0;31m             \u001b[0;32mreturn\u001b[0m \u001b[0mforward_call\u001b[0m\u001b[0;34m(\u001b[0m\u001b[0;34m*\u001b[0m\u001b[0margs\u001b[0m\u001b[0;34m,\u001b[0m \u001b[0;34m**\u001b[0m\u001b[0mkwargs\u001b[0m\u001b[0;34m)\u001b[0m\u001b[0;34m\u001b[0m\u001b[0;34m\u001b[0m\u001b[0m\n\u001b[0m\u001b[1;32m   1502\u001b[0m         \u001b[0;31m# Do not call functions when jit is used\u001b[0m\u001b[0;34m\u001b[0m\u001b[0;34m\u001b[0m\u001b[0m\n\u001b[1;32m   1503\u001b[0m         \u001b[0mfull_backward_hooks\u001b[0m\u001b[0;34m,\u001b[0m \u001b[0mnon_full_backward_hooks\u001b[0m \u001b[0;34m=\u001b[0m \u001b[0;34m[\u001b[0m\u001b[0;34m]\u001b[0m\u001b[0;34m,\u001b[0m \u001b[0;34m[\u001b[0m\u001b[0;34m]\u001b[0m\u001b[0;34m\u001b[0m\u001b[0;34m\u001b[0m\u001b[0m\n",
            "\u001b[0;32m/usr/local/lib/python3.10/dist-packages/torch/nn/modules/linear.py\u001b[0m in \u001b[0;36mforward\u001b[0;34m(self, input)\u001b[0m\n\u001b[1;32m    112\u001b[0m \u001b[0;34m\u001b[0m\u001b[0m\n\u001b[1;32m    113\u001b[0m     \u001b[0;32mdef\u001b[0m \u001b[0mforward\u001b[0m\u001b[0;34m(\u001b[0m\u001b[0mself\u001b[0m\u001b[0;34m,\u001b[0m \u001b[0minput\u001b[0m\u001b[0;34m:\u001b[0m \u001b[0mTensor\u001b[0m\u001b[0;34m)\u001b[0m \u001b[0;34m->\u001b[0m \u001b[0mTensor\u001b[0m\u001b[0;34m:\u001b[0m\u001b[0;34m\u001b[0m\u001b[0;34m\u001b[0m\u001b[0m\n\u001b[0;32m--> 114\u001b[0;31m         \u001b[0;32mreturn\u001b[0m \u001b[0mF\u001b[0m\u001b[0;34m.\u001b[0m\u001b[0mlinear\u001b[0m\u001b[0;34m(\u001b[0m\u001b[0minput\u001b[0m\u001b[0;34m,\u001b[0m \u001b[0mself\u001b[0m\u001b[0;34m.\u001b[0m\u001b[0mweight\u001b[0m\u001b[0;34m,\u001b[0m \u001b[0mself\u001b[0m\u001b[0;34m.\u001b[0m\u001b[0mbias\u001b[0m\u001b[0;34m)\u001b[0m\u001b[0;34m\u001b[0m\u001b[0;34m\u001b[0m\u001b[0m\n\u001b[0m\u001b[1;32m    115\u001b[0m \u001b[0;34m\u001b[0m\u001b[0m\n\u001b[1;32m    116\u001b[0m     \u001b[0;32mdef\u001b[0m \u001b[0mextra_repr\u001b[0m\u001b[0;34m(\u001b[0m\u001b[0mself\u001b[0m\u001b[0;34m)\u001b[0m \u001b[0;34m->\u001b[0m \u001b[0mstr\u001b[0m\u001b[0;34m:\u001b[0m\u001b[0;34m\u001b[0m\u001b[0;34m\u001b[0m\u001b[0m\n",
            "\u001b[0;32m/usr/local/lib/python3.10/dist-packages/torch/nn/modules/module.py\u001b[0m in \u001b[0;36m__getattr__\u001b[0;34m(self, name)\u001b[0m\n\u001b[1;32m   1599\u001b[0m             \u001b[0mself\u001b[0m\u001b[0;34m.\u001b[0m\u001b[0m_backward_pre_hooks\u001b[0m \u001b[0;34m=\u001b[0m \u001b[0mOrderedDict\u001b[0m\u001b[0;34m(\u001b[0m\u001b[0;34m)\u001b[0m\u001b[0;34m\u001b[0m\u001b[0;34m\u001b[0m\u001b[0m\n\u001b[1;32m   1600\u001b[0m \u001b[0;34m\u001b[0m\u001b[0m\n\u001b[0;32m-> 1601\u001b[0;31m     \u001b[0;32mdef\u001b[0m \u001b[0m__getattr__\u001b[0m\u001b[0;34m(\u001b[0m\u001b[0mself\u001b[0m\u001b[0;34m,\u001b[0m \u001b[0mname\u001b[0m\u001b[0;34m:\u001b[0m \u001b[0mstr\u001b[0m\u001b[0;34m)\u001b[0m \u001b[0;34m->\u001b[0m \u001b[0mUnion\u001b[0m\u001b[0;34m[\u001b[0m\u001b[0mTensor\u001b[0m\u001b[0;34m,\u001b[0m \u001b[0;34m'Module'\u001b[0m\u001b[0;34m]\u001b[0m\u001b[0;34m:\u001b[0m\u001b[0;34m\u001b[0m\u001b[0;34m\u001b[0m\u001b[0m\n\u001b[0m\u001b[1;32m   1602\u001b[0m         \u001b[0;32mif\u001b[0m \u001b[0;34m'_parameters'\u001b[0m \u001b[0;32min\u001b[0m \u001b[0mself\u001b[0m\u001b[0;34m.\u001b[0m\u001b[0m__dict__\u001b[0m\u001b[0;34m:\u001b[0m\u001b[0;34m\u001b[0m\u001b[0;34m\u001b[0m\u001b[0m\n\u001b[1;32m   1603\u001b[0m             \u001b[0m_parameters\u001b[0m \u001b[0;34m=\u001b[0m \u001b[0mself\u001b[0m\u001b[0;34m.\u001b[0m\u001b[0m__dict__\u001b[0m\u001b[0;34m[\u001b[0m\u001b[0;34m'_parameters'\u001b[0m\u001b[0;34m]\u001b[0m\u001b[0;34m\u001b[0m\u001b[0;34m\u001b[0m\u001b[0m\n",
            "\u001b[0;31mKeyboardInterrupt\u001b[0m: "
          ]
        }
      ]
    }
  ],
  "metadata": {
    "colab": {
      "provenance": [],
      "include_colab_link": true
    },
    "kernelspec": {
      "display_name": "Python 3",
      "name": "python3"
    },
    "language_info": {
      "name": "python"
    }
  },
  "nbformat": 4,
  "nbformat_minor": 0
}